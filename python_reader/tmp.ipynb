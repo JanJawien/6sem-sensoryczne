{
 "cells": [
  {
   "cell_type": "code",
   "execution_count": 5,
   "metadata": {},
   "outputs": [
    {
     "name": "stdout",
     "output_type": "stream",
     "text": [
      "Serial connection open\n",
      "Reading data for 30 seconds...\n",
      "Serial connection closed\n"
     ]
    }
   ],
   "source": [
    "import json\n",
    "import serial\n",
    "import time\n",
    "from datetime import datetime\n",
    "\n",
    "import numpy as np\n",
    "import matplotlib.pyplot as plt\n",
    "\n",
    "BASIC_SPO2_LEVEL = 97\n",
    "BASIC_TEMP_VALUE = 36.6\n",
    "DATA_ACQUISITION_TIME_S = 30  # 10\n",
    "SERIAL_INTERFACE = \"COM4\"\n",
    "\n",
    "data = []\n",
    "if DATA_ACQUISITION_TIME_S <= 0:\n",
    "    # Reading data from file\n",
    "    with open('data.json') as file:\n",
    "        data = json.load(file)\n",
    "\n",
    "else:\n",
    "    # Reading data from Arduino serial\n",
    "    try:\n",
    "        com = serial.Serial(SERIAL_INTERFACE, 115200, timeout=1)\n",
    "    except serial.SerialException:\n",
    "        print(\"Serial connection on\", SERIAL_INTERFACE, \"cannot be opened\")\n",
    "        exit()\n",
    "\n",
    "    time.sleep(1)\n",
    "    print(\"Serial connection open\")\n",
    "    end_timestamp = datetime.now().timestamp() + DATA_ACQUISITION_TIME_S\n",
    "\n",
    "    print(\"Reading data for\", DATA_ACQUISITION_TIME_S, \"seconds...\")\n",
    "    while end_timestamp - datetime.now().timestamp() > 0:\n",
    "        try:\n",
    "            line = com.readline()\n",
    "            data.append(np.fromstring(line.decode(\"utf-8\"), dtype=float, sep=\" \"))\n",
    "        except UnicodeDecodeError:\n",
    "            continue\n",
    "\n",
    "    print(\"Serial connection closed\")\n",
    "    com.close()"
   ]
  },
  {
   "cell_type": "code",
   "execution_count": 6,
   "metadata": {},
   "outputs": [
    {
     "data": {
      "text/plain": [
       "array([[ 0.000e+00,  4.300e+01,  2.807e+01, -1.000e+00, -1.000e+00],\n",
       "       [ 1.000e+00,  2.313e+01,  2.000e-02, -1.600e-01,  1.005e+01],\n",
       "       [ 1.000e+00,  2.308e+01,  2.000e-02, -1.500e-01,  1.007e+01],\n",
       "       ...,\n",
       "       [ 1.000e+00,  2.305e+01,  0.000e+00, -1.600e-01,  1.000e+01],\n",
       "       [ 1.000e+00,  2.304e+01,  1.000e-02, -1.600e-01,  1.001e+01],\n",
       "       [ 1.000e+00,  2.296e+01,  2.000e-02, -1.600e-01,  1.001e+01]])"
      ]
     },
     "execution_count": 6,
     "metadata": {},
     "output_type": "execute_result"
    }
   ],
   "source": [
    "data = np.array(data)\n",
    "data"
   ]
  },
  {
   "attachments": {},
   "cell_type": "markdown",
   "metadata": {},
   "source": [
    "Dane przychodzą teraz w formacie:\n",
    "\n",
    "```\n",
    "0 lm35_temp max_temp max_spo2 max_bpm\n",
    "1 ada_temp ada_x ada_y ada_z\n",
    "1 ada_temp ada_x ada_y ada_z\n",
    "1 ada_temp ada_x ada_y ada_z\n",
    "1 ada_temp ada_x ada_y ada_z\n",
    "...\n",
    "```\n",
    "\n",
    "Każda linia skąda się z 5 wartości numerycznych oddzielonych jedną spacją.  \n",
    "Każda linia, gdzie pierwsza wartość to 0, przesyła wartości z termometru i pulsoksymetru  \n",
    "Każda linia, gdzie pierwsza wartość to 1, przesyła wartości z akcelerometru  \n",
    "Na jedną linię `0` przypada 200 linni `1`, teoretycznie przesył danych zawsze zaczyna się od linni `0` bo arduino się restartuje przy otwarciu COM4, ale nie gwarantuję tego  \n",
    "Dokładny format podany powyżej  \n",
    "\n",
    "Poniżej operacje numpyowe do wydzielenia danych do osobnych tablic\n"
   ]
  },
  {
   "cell_type": "code",
   "execution_count": 7,
   "metadata": {},
   "outputs": [],
   "source": [
    "max = data[data[:, 0] == 0.0]\n",
    "ada = data[data[:, 0] == 1.0]\n",
    "\n",
    "lm35_temp = max[:, 1]\n",
    "max_temp = max[:, 2]\n",
    "max_spo2 = max[:, 3]\n",
    "max_bpm = max[:, 4]\n",
    "\n",
    "ada_temp = ada[:, 1]\n",
    "ada_x = ada[:, 2]\n",
    "ada_y = ada[:, 3]\n",
    "ada_z = ada[:, 4]"
   ]
  },
  {
   "cell_type": "code",
   "execution_count": 11,
   "metadata": {},
   "outputs": [
    {
     "name": "stdout",
     "output_type": "stream",
     "text": [
      "[ 43.  47.  43. 135.  48.  48.  48.]\n",
      "[28.07 28.11 28.13 28.13 29.03 29.04 28.08]\n",
      "[-1. -1. -1. -1. -1. -1. -1.]\n",
      "[-1. -1. -1. -1. -1. -1. -1.]\n"
     ]
    }
   ],
   "source": [
    "print(lm35_temp)\n",
    "print(max_temp)\n",
    "print(max_spo2)\n",
    "print(max_bpm)"
   ]
  },
  {
   "cell_type": "code",
   "execution_count": 19,
   "metadata": {},
   "outputs": [
    {
     "name": "stdout",
     "output_type": "stream",
     "text": [
      "1226\n"
     ]
    },
    {
     "data": {
      "text/plain": [
       "array([10.05, 10.07, 10.06, ..., 10.  , 10.01, 10.01])"
      ]
     },
     "execution_count": 19,
     "metadata": {},
     "output_type": "execute_result"
    }
   ],
   "source": [
    "print(len(ada_z))\n",
    "ada_z"
   ]
  },
  {
   "cell_type": "code",
   "execution_count": 14,
   "metadata": {},
   "outputs": [],
   "source": [
    "import pandas as pd\n",
    "\n",
    "pd.to_pickle(data, \"data.pkl\")"
   ]
  },
  {
   "cell_type": "code",
   "execution_count": 18,
   "metadata": {},
   "outputs": [
    {
     "data": {
      "text/plain": [
       "numpy.ndarray"
      ]
     },
     "execution_count": 18,
     "metadata": {},
     "output_type": "execute_result"
    }
   ],
   "source": [
    "type(pd.read_pickle(\"data.pkl\"))"
   ]
  },
  {
   "cell_type": "code",
   "execution_count": null,
   "metadata": {},
   "outputs": [],
   "source": []
  }
 ],
 "metadata": {
  "kernelspec": {
   "display_name": "Python 3",
   "language": "python",
   "name": "python3"
  },
  "language_info": {
   "codemirror_mode": {
    "name": "ipython",
    "version": 3
   },
   "file_extension": ".py",
   "mimetype": "text/x-python",
   "name": "python",
   "nbconvert_exporter": "python",
   "pygments_lexer": "ipython3",
   "version": "3.10.4"
  },
  "orig_nbformat": 4
 },
 "nbformat": 4,
 "nbformat_minor": 2
}
