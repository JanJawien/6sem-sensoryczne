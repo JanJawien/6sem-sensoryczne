{
 "cells": [
  {
   "attachments": {},
   "cell_type": "markdown",
   "metadata": {},
   "source": [
    "## Akwizycja danych\n",
    "\n",
    "Skrypt otwiera połączenie na wybranym interfejsie (tutaj COM4) i odbiera dane z sensorów.  \n",
    "Następnie zapisuje dane do pliku .pkl, który może zostać przeanalizowany przez aplikację. Dane nie są tutaj w żaden sposób przetwarzane, więc aplikacja otrzymuje je w tkaim samym formacie, w jakim wysyłane są one przez mikrokontroler."
   ]
  },
  {
   "cell_type": "code",
   "execution_count": 1,
   "metadata": {},
   "outputs": [],
   "source": [
    "import json\n",
    "import serial\n",
    "import time\n",
    "from datetime import datetime\n",
    "import pandas as pd\n",
    "\n",
    "import numpy as np\n",
    "import matplotlib.pyplot as plt\n",
    "\n",
    "DATA_ACQUISITION_TIME_S = 30 \n",
    "SERIAL_INTERFACE = \"COM4\""
   ]
  },
  {
   "cell_type": "code",
   "execution_count": 5,
   "metadata": {},
   "outputs": [
    {
     "name": "stdout",
     "output_type": "stream",
     "text": [
      "Serial connection open\n",
      "Reading data for 30 seconds...\n",
      "Serial connection closed\n"
     ]
    }
   ],
   "source": [
    "data = []\n",
    "if DATA_ACQUISITION_TIME_S <= 0:\n",
    "    # Reading data from file\n",
    "    with open('data.json') as file:\n",
    "        data = json.load(file)\n",
    "\n",
    "else:\n",
    "    # Reading data from Arduino serial\n",
    "    try:\n",
    "        com = serial.Serial(SERIAL_INTERFACE, 115200, timeout=1)\n",
    "    except serial.SerialException:\n",
    "        print(\"Serial connection on\", SERIAL_INTERFACE, \"cannot be opened\")\n",
    "        exit()\n",
    "\n",
    "    time.sleep(1)\n",
    "    print(\"Serial connection open\")\n",
    "    end_timestamp = datetime.now().timestamp() + DATA_ACQUISITION_TIME_S\n",
    "\n",
    "    print(\"Reading data for\", DATA_ACQUISITION_TIME_S, \"seconds...\")\n",
    "    while end_timestamp - datetime.now().timestamp() > 0:\n",
    "        try:\n",
    "            line = com.readline()\n",
    "            data.append(np.fromstring(line.decode(\"utf-8\"), dtype=float, sep=\" \"))\n",
    "        except UnicodeDecodeError:\n",
    "            continue\n",
    "\n",
    "    print(\"Serial connection closed\")\n",
    "    com.close()"
   ]
  },
  {
   "cell_type": "code",
   "execution_count": 7,
   "metadata": {},
   "outputs": [
    {
     "data": {
      "text/plain": [
       "array([[ 0.000e+00,  2.400e+01,  3.609e+01,  9.700e+01,  8.000e+01],\n",
       "       [ 1.000e+00,  2.884e+01, -7.900e-01,  8.000e-02,  1.002e+01],\n",
       "       [ 1.000e+00,  2.884e+01, -8.100e-01,  9.000e-02,  1.001e+01],\n",
       "       ...,\n",
       "       [ 1.000e+00,  2.888e+01, -8.400e-01,  1.600e-01,  1.002e+01],\n",
       "       [ 1.000e+00,  2.880e+01, -8.500e-01,  1.300e-01,  9.990e+00],\n",
       "       [ 1.000e+00,  2.893e+01, -8.500e-01,  1.000e-01,  9.960e+00]])"
      ]
     },
     "execution_count": 7,
     "metadata": {},
     "output_type": "execute_result"
    }
   ],
   "source": [
    "data = np.array(data)\n",
    "pd.to_pickle(data, \"data.pkl\")\n",
    "data\n"
   ]
  },
  {
   "attachments": {},
   "cell_type": "markdown",
   "metadata": {},
   "source": [
    "Dane przychodzą teraz w formacie:\n",
    "\n",
    "```\n",
    "0 lm35_temp max_temp max_spo2 max_bpm\n",
    "1 ada_temp ada_x ada_y ada_z\n",
    "1 ada_temp ada_x ada_y ada_z\n",
    "1 ada_temp ada_x ada_y ada_z\n",
    "1 ada_temp ada_x ada_y ada_z\n",
    "...\n",
    "```\n",
    "\n",
    "Każda linia skąda się z 5 wartości numerycznych oddzielonych jedną spacją.  \n",
    "Każda linia, gdzie pierwsza wartość to 0, przesyła wartości z termometru i pulsoksymetru  \n",
    "Każda linia, gdzie pierwsza wartość to 1, przesyła wartości z akcelerometru  \n",
    "Na jedną linię `0` przypada 200 linni `1`  \n",
    "Dokładny format podany powyżej  "
   ]
  },
  {
   "attachments": {},
   "cell_type": "markdown",
   "metadata": {},
   "source": [
    "## Rozpakowanie danych\n",
    "\n",
    "Poniżej umieszczone są operacje numpyowe do wydzielenia danych do osobnych tablic.  \n",
    "Operacje te są wykonywane osobno w aplikacji po odczytaniu całego pliku z danymi - tutaj mają one charakter prezentacyjny  \n",
    "  \n",
    "Wartość -1 oznacza brak możliwości zmierzenia danych - jest ignorowana\n"
   ]
  },
  {
   "cell_type": "code",
   "execution_count": 8,
   "metadata": {},
   "outputs": [],
   "source": [
    "max = data[data[:, 0] == 0.0]\n",
    "ada = data[data[:, 0] == 1.0]\n",
    "\n",
    "lm35_temp = max[:, 1]\n",
    "max_temp = max[:, 2]\n",
    "max_spo2 = max[:, 3]\n",
    "max_bpm = max[:, 4]\n",
    "\n",
    "ada_temp = ada[:, 1]\n",
    "ada_x = ada[:, 2]\n",
    "ada_y = ada[:, 3]\n",
    "ada_z = ada[:, 4]"
   ]
  },
  {
   "cell_type": "code",
   "execution_count": 9,
   "metadata": {},
   "outputs": [
    {
     "name": "stdout",
     "output_type": "stream",
     "text": [
      "Temperatura LM35: [24. 26. 27. 28. 24. 26. 28. 24. 29. 29.]\n",
      "Temperatura MAX30102: [36.09 36.12 36.14 36.13 36.14 36.15 37.03 37.   36.14 36.15]\n",
      "Natlenienie krwi: [97. 98. 96. 95. 95. 95. 95. 97. 98. -1.]\n",
      "Tętno: [80. 84. 87. 85. 90. 99. 91. 96. -1. 91.]\n"
     ]
    }
   ],
   "source": [
    "print(\"Temperatura LM35:\", lm35_temp)\n",
    "print(\"Temperatura MAX30102:\", max_temp)\n",
    "print(\"Natlenienie krwi:\", max_spo2)\n",
    "print(\"Tętno:\", max_bpm)"
   ]
  },
  {
   "cell_type": "code",
   "execution_count": 10,
   "metadata": {},
   "outputs": [
    {
     "data": {
      "text/plain": [
       "[<matplotlib.lines.Line2D at 0x1d097c60640>]"
      ]
     },
     "execution_count": 10,
     "metadata": {},
     "output_type": "execute_result"
    },
    {
     "data": {
      "image/png": "[encoded data removed]",
      "text/plain": [
       "<Figure size 432x288 with 1 Axes>"
      ]
     },
     "metadata": {
      "needs_background": "light"
     },
     "output_type": "display_data"
    }
   ],
   "source": [
    "plt.plot(ada_x)\n",
    "plt.plot(ada_y)\n",
    "plt.plot(ada_z-9.8) # kompensacja przyspieszenia ziemskiego"
   ]
  }
 ],
 "metadata": {
  "kernelspec": {
   "display_name": "Python 3",
   "language": "python",
   "name": "python3"
  },
  "language_info": {
   "codemirror_mode": {
    "name": "ipython",
    "version": 3
   },
   "file_extension": ".py",
   "mimetype": "text/x-python",
   "name": "python",
   "nbconvert_exporter": "python",
   "pygments_lexer": "ipython3",
   "version": "3.10.4"
  },
  "orig_nbformat": 4
 },
 "nbformat": 4,
 "nbformat_minor": 2
}
